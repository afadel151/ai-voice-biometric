{
 "cells": [
  {
   "cell_type": "code",
   "execution_count": null,
   "id": "4cf1677d",
   "metadata": {},
   "outputs": [],
   "source": [
    "from src.cnn.model import create_model as build_cnn_model\n",
    "from dataset import prepare_dataset\n",
    "from keras.api.preprocessing.sequence import pad_sequences\n",
    "\n",
    "from keras.api.utils import to_categorical\n",
    "from sklearn.preprocessing import LabelEncoder\n",
    "\n",
    "\n",
    "DATASET_DIR = \"data\"\n",
    "X,y = prepare_dataset(path=DATASET_DIR)\n",
    "le = LabelEncoder()\n",
    "y_encoded = le.fit_transform(y)\n",
    "y_cat = to_categorical(y_encoded)\n",
    "X_padded = pad_sequences(X, padding='post', dtype='float32')\n",
    "\n",
    "input_shape = X_padded.shape\n",
    "num_classes = y_cat.shape\n",
    "\n",
    "\n",
    "\n",
    "model = build_cnn_model((input_shape[1], input_shape[2], 1), num_classes[1])\n",
    "\n",
    "model.compile(optimizer='adam', loss='categorical_crossentropy', metrics=['accuracy'])\n",
    "model.fit(X_padded, y_cat, epochs=10, batch_size=32)\n",
    "\n",
    "model.save('cnn_speaker_model.keras')"
   ]
  }
 ],
 "metadata": {
  "kernelspec": {
   "display_name": "stage-crdt",
   "language": "python",
   "name": "python3"
  },
  "language_info": {
   "name": "python",
   "version": "3.9.21"
  }
 },
 "nbformat": 4,
 "nbformat_minor": 5
}
