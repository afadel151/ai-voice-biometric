{
  "cells": [
    {
      "cell_type": "code",
      "execution_count": 1,
      "metadata": {
        "colab": {
          "base_uri": "https://localhost:8080/"
        },
        "id": "WIbeottD6CKj",
        "outputId": "6c117f4b-c000-48d0-9687-d83369219d81"
      },
      "outputs": [
        {
          "name": "stdout",
          "output_type": "stream",
          "text": [
            "Drive already mounted at /content/drive; to attempt to forcibly remount, call drive.mount(\"/content/drive\", force_remount=True).\n"
          ]
        }
      ],
      "source": [
        "from google.colab import drive\n",
        "drive.mount('/content/drive')"
      ]
    },
    {
      "cell_type": "markdown",
      "metadata": {},
      "source": []
    },
    {
      "cell_type": "code",
      "execution_count": 2,
      "metadata": {
        "colab": {
          "base_uri": "https://localhost:8080/"
        },
        "id": "H4F8XiW76MbR",
        "outputId": "57aa7c86-3495-4a05-c4fb-ec33007cb18e"
      },
      "outputs": [
        {
          "data": {
            "text/plain": [
              "<sqlite3.Cursor at 0x7cad02caf340>"
            ]
          },
          "execution_count": 2,
          "metadata": {},
          "output_type": "execute_result"
        }
      ],
      "source": [
        "import sys\n",
        "sys.path.append('/content/drive/MyDrive/')\n",
        "import sqlite3\n",
        "db_file = \"database.db\"\n",
        "conn = sqlite3.connect(db_file)\n",
        "cursor = conn.cursor()\n",
        "\n",
        "\n",
        "cursor.execute('''\n",
        "    CREATE TABLE IF NOT EXISTS speakers (\n",
        "        ID INTEGER PRIMARY KEY,\n",
        "        SEX TEXT,\n",
        "        SUBSET TEXT,\n",
        "        MINUTES REAL,\n",
        "        NAME TEXT\n",
        "    )\n",
        "''')"
      ]
    },
    {
      "cell_type": "code",
      "execution_count": 3,
      "metadata": {
        "colab": {
          "base_uri": "https://localhost:8080/"
        },
        "id": "VYWlkTgZ6MvJ",
        "outputId": "51e32057-eee1-4606-8e56-7b22ae685723"
      },
      "outputs": [
        {
          "name": "stdout",
          "output_type": "stream",
          "text": [
            "Data successfully imported from /content/drive/MyDrive/cnn-speaker-id/speakers.csv to database.db\n"
          ]
        }
      ],
      "source": [
        "import csv\n",
        "import sys\n",
        "csv_file = \"/content/drive/MyDrive/cnn-speaker-id/speakers.csv\"\n",
        "sys.path.append('/content/drive/MyDrive/cnn-speaker-id')\n",
        "with open(csv_file, 'r', encoding='utf-8') as file:\n",
        "    csv_reader = csv.reader(file)\n",
        "    header = next(csv_reader)\n",
        "    for row in csv_reader:\n",
        "        if len(row) == 5:\n",
        "            cursor.execute('''\n",
        "                INSERT OR REPLACE INTO speakers (ID, SEX, SUBSET, MINUTES, NAME)\n",
        "                VALUES (?, ?, ?, ?, ?)\n",
        "            ''', (int(row[0]), row[1], row[2], float(row[3]), row[4]))\n",
        "conn.commit()\n",
        "conn.close()\n",
        "print(f\"Data successfully imported from {csv_file} to {db_file}\")"
      ]
    },
    {
      "cell_type": "code",
      "execution_count": null,
      "metadata": {
        "id": "urJd_K2C6M_R"
      },
      "outputs": [],
      "source": [
        "from keras.api.preprocessing.sequence import pad_sequences\n",
        "from keras.api.metrics import Precision, Recall\n",
        "from keras.api.utils import to_categorical\n",
        "from sklearn.preprocessing import LabelEncoder\n",
        "from sklearn.utils import class_weight\n",
        "import numpy as np\n",
        "from keras.api.callbacks import ReduceLROnPlateau, EarlyStopping\n",
        "from collections import Counter\n",
        "from sklearn.model_selection import train_test_split\n",
        "from sklearn.metrics import classification_report"
      ]
    },
    {
      "cell_type": "code",
      "execution_count": null,
      "metadata": {
        "id": "8p34h5B76NRi"
      },
      "outputs": [],
      "source": [
        "from keras.api.models import Sequential\n",
        "from keras.api.layers import (Conv2D, MaxPooling2D, Flatten, Dense,\n",
        "                                     BatchNormalization, Dropout, InputLayer)\n",
        "def create_model(num_classes):\n",
        "    model = Sequential([\n",
        "        InputLayer(shape=(369, 496, 1)),\n",
        "        Conv2D(32, (3, 3), activation='relu', padding='same'),\n",
        "        BatchNormalization(),\n",
        "        MaxPooling2D((3, 3)),\n",
        "\n",
        "        Conv2D(32, (3, 3), activation='relu', padding='same'),\n",
        "        BatchNormalization(),\n",
        "        MaxPooling2D((3, 3)),\n",
        "\n",
        "        Conv2D(32, (3, 3), activation='relu', padding='same'),\n",
        "        BatchNormalization(),\n",
        "        MaxPooling2D((3, 3)),\n",
        "        Conv2D(32, (3, 3), activation='relu', padding='same'),\n",
        "        BatchNormalization(),\n",
        "        MaxPooling2D((3, 3)),\n",
        "\n",
        "        Flatten(),\n",
        "        Dense(128, activation='relu'),\n",
        "        Dropout(0.3),\n",
        "\n",
        "        Dense(100, activation='relu'),\n",
        "        Dropout(0.3),\n",
        "        Dense(num_classes, activation='softmax')\n",
        "    ])\n",
        "    return model\n"
      ]
    },
    {
      "cell_type": "code",
      "execution_count": 6,
      "metadata": {
        "id": "fwjn_xMz7VNS"
      },
      "outputs": [],
      "source": [
        "import cv2\n",
        "import librosa\n",
        "\n",
        "def get_spectogram(audio_path):\n",
        "    y, sr = librosa.load(audio_path,sr=16000)\n",
        "    S = np.abs(librosa.stft(y, n_fft=1024, hop_length=512))\n",
        "    S_db = librosa.amplitude_to_db(S, ref=np.max)\n",
        "    S_norm = (S_db - S_db.min()) / (S_db.max() - S_db.min())\n",
        "    S_img = (S_norm * 255).astype(np.uint8)\n",
        "    target_size = (496, 369)\n",
        "    S_resized = cv2.resize(S_img, target_size, interpolation=cv2.INTER_AREA)\n",
        "    return S_resized"
      ]
    },
    {
      "cell_type": "code",
      "execution_count": 7,
      "metadata": {
        "id": "F1SxHPHDDBGp"
      },
      "outputs": [],
      "source": [
        "def rm_silence(input_file, sr, top_db=30):\n",
        "    y, sr = librosa.load(input_file, sr=sr)\n",
        "    intervals = librosa.effects.split(y, top_db=top_db)\n",
        "    non_silent_audio = np.concatenate([y[start:end] for start, end in intervals])\n",
        "    return non_silent_audio"
      ]
    },
    {
      "cell_type": "code",
      "execution_count": 8,
      "metadata": {
        "id": "TQCWt0J67bf5"
      },
      "outputs": [],
      "source": [
        "def resize_data(S_resized):\n",
        "    X = np.expand_dims(S_resized, axis=-1) / 255.0\n",
        "    return X"
      ]
    },
    {
      "cell_type": "code",
      "execution_count": 9,
      "metadata": {
        "id": "bQEf4jrd7fzY"
      },
      "outputs": [],
      "source": [
        "def get_speaker_name_from_db(speaker):\n",
        "    connection = sqlite3.connect('database.db')\n",
        "    cursor = connection.cursor()\n",
        "    cursor.execute(\"SELECT name FROM speakers WHERE id=?\", (speaker,))\n",
        "    result = cursor.fetchone()\n",
        "    connection.close()\n",
        "    if result:\n",
        "        return result[0]\n",
        "    else:\n",
        "        return None"
      ]
    },
    {
      "cell_type": "code",
      "execution_count": 10,
      "metadata": {
        "id": "JEGLUJTE8LBi"
      },
      "outputs": [],
      "source": [
        "import os"
      ]
    },
    {
      "cell_type": "code",
      "execution_count": 11,
      "metadata": {
        "id": "PE1f5eqM8JIY"
      },
      "outputs": [],
      "source": [
        "def count_files_recursive(path):\n",
        "    count = 0\n",
        "    for root, dirs, files in os.walk(path):\n",
        "        count += len(files)\n",
        "    return count"
      ]
    },
    {
      "cell_type": "code",
      "execution_count": 12,
      "metadata": {
        "id": "QQfm0uaN8bJw"
      },
      "outputs": [],
      "source": [
        "def list_files_recursive(path):\n",
        "    file_list = []\n",
        "    for root, dirs, files in os.walk(path):\n",
        "        for file in files:\n",
        "          if file.endswith('.flac'):\n",
        "            file_list.append(os.path.join(root, file))\n",
        "    return file_list"
      ]
    },
    {
      "cell_type": "code",
      "execution_count": 13,
      "metadata": {
        "id": "4rtt67VH7jlR"
      },
      "outputs": [],
      "source": [
        "import random\n",
        "from sklearn.model_selection import train_test_split\n",
        "\n",
        "def prepare_dataset(path):\n",
        "    X_train, y_train = [], []\n",
        "    X_test, y_test = [], []\n",
        "\n",
        "    speakers = os.listdir(path)\n",
        "\n",
        "    for speaker in speakers:\n",
        "        speaker_path = os.path.join(path, speaker)\n",
        "        if not os.path.isdir(speaker_path):\n",
        "            continue\n",
        "        speaker_name = get_speaker_name_from_db(speaker)\n",
        "        print(speaker_name)\n",
        "        files = list_files_recursive(speaker_path)\n",
        "        random.shuffle(files)\n",
        "        split_idx = int(0.8 * len(files))\n",
        "        train_files = files[:split_idx]\n",
        "        test_files = files[split_idx:]\n",
        "        print('#### Training files ####')\n",
        "        for file in train_files:\n",
        "            try:\n",
        "              S_resized = get_spectogram(file)\n",
        "              X_train.append(resize_data(S_resized))\n",
        "              y_train.append(speaker_name)\n",
        "            except Exception as e:\n",
        "                print(f\"[Train] Failed on {file}: {e}\")\n",
        "        print('#### Testing files ####')\n",
        "        for file in test_files:\n",
        "            try:\n",
        "                S_resized = get_spectogram(file)\n",
        "                X_test.append(resize_data(S_resized))\n",
        "                y_test.append(speaker_name)\n",
        "            except Exception as e:\n",
        "                print(f\"[Test] Failed on {file}: {e}\")\n",
        "\n",
        "    return X_train, y_train, X_test, y_test\n"
      ]
    },
    {
      "cell_type": "code",
      "execution_count": 14,
      "metadata": {
        "colab": {
          "base_uri": "https://localhost:8080/"
        },
        "id": "DYdpCm7F8_AK",
        "outputId": "e53e5199-abda-4a9a-d6b3-e7acaa8226e2"
      },
      "outputs": [
        {
          "name": "stdout",
          "output_type": "stream",
          "text": [
            "Michele Fry\n",
            "#### Training files ####\n",
            "#### Testing files ####\n",
            "thecheops\n",
            "#### Training files ####\n",
            "#### Testing files ####\n",
            "Leanne Kinkopf\n",
            "#### Training files ####\n",
            "#### Testing files ####\n",
            "Michelle Goode\n",
            "#### Training files ####\n",
            "#### Testing files ####\n",
            "Sam Stinson\n",
            "#### Training files ####\n",
            "#### Testing files ####\n",
            "David Jenkins\n",
            "#### Training files ####\n",
            "#### Testing files ####\n",
            "Tim Bower\n",
            "#### Training files ####\n",
            "#### Testing files ####\n",
            "KalenXI\n",
            "#### Training files ####\n",
            "#### Testing files ####\n",
            "Bill Kneeland\n",
            "#### Training files ####\n",
            "#### Testing files ####\n",
            "Nodo420\n",
            "#### Training files ####\n",
            "#### Testing files ####\n",
            "Nolan Fout\n",
            "#### Training files ####\n",
            "#### Testing files ####\n",
            "LadyBug\n",
            "#### Training files ####\n",
            "#### Testing files ####\n",
            "Taylor Burton-Edward\n",
            "#### Training files ####\n",
            "#### Testing files ####\n",
            "Paul-Gabriel Wiener\n",
            "#### Training files ####\n",
            "#### Testing files ####\n",
            "Rachael Lapidis\n",
            "#### Training files ####\n",
            "#### Testing files ####\n",
            "Ulf Bjorklund\n",
            "#### Training files ####\n",
            "#### Testing files ####\n",
            "airandwaters\n",
            "#### Training files ####\n",
            "#### Testing files ####\n",
            "Mary Ballard-Johansson\n",
            "#### Training files ####\n",
            "#### Testing files ####\n",
            "elongman\n",
            "#### Training files ####\n",
            "#### Testing files ####\n",
            "Rachel Nelson-Smith\n",
            "#### Training files ####\n",
            "#### Testing files ####\n",
            "Jen Maxwell\n",
            "#### Training files ####\n",
            "#### Testing files ####\n",
            "Heather Hogan\n",
            "#### Training files ####\n",
            "#### Testing files ####\n",
            "supergirl\n",
            "#### Training files ####\n",
            "#### Testing files ####\n",
            "sarac\n",
            "#### Training files ####\n",
            "#### Testing files ####\n",
            "Leni\n",
            "#### Training files ####\n",
            "#### Testing files ####\n",
            "rachelellen\n",
            "#### Training files ####\n",
            "#### Testing files ####\n",
            "amycsj\n",
            "#### Training files ####\n",
            "#### Testing files ####\n",
            "Brad Bush\n",
            "#### Training files ####\n",
            "#### Testing files ####\n",
            "Tim Perkins\n",
            "#### Training files ####\n",
            "#### Testing files ####\n",
            "Mitchell L Leopard\n",
            "#### Training files ####\n",
            "#### Testing files ####\n",
            "TinyPines\n",
            "#### Training files ####\n",
            "#### Testing files ####\n",
            "number6\n",
            "#### Training files ####\n",
            "#### Testing files ####\n",
            "AJai Hilton\n",
            "#### Training files ####\n",
            "#### Testing files ####\n",
            "Daniel Anaya\n",
            "#### Training files ####\n",
            "#### Testing files ####\n",
            "Peter Bobbe\n",
            "#### Training files ####\n",
            "#### Testing files ####\n",
            "Duncan Murrell\n",
            "#### Training files ####\n",
            "#### Testing files ####\n",
            "Nikolle Doolin\n",
            "#### Training files ####\n",
            "#### Testing files ####\n",
            "Dianne\n",
            "#### Training files ####\n",
            "#### Testing files ####\n",
            "Akram Fadel\n",
            "#### Training files ####\n",
            "#### Testing files ####\n",
            "Ammar Kaba\n",
            "#### Training files ####\n",
            "#### Testing files ####\n",
            "Number of training examples: 2156\n",
            "Number of testing examples: 560\n",
            "Number of classes: 40\n",
            "Classes: {'Jen Maxwell', 'Michelle Goode', 'Rachel Nelson-Smith', 'number6', 'elongman', 'Michele Fry', 'David Jenkins', 'KalenXI', 'airandwaters', 'Mary Ballard-Johansson', 'Akram Fadel', 'Sam Stinson', 'Daniel Anaya', 'Nikolle Doolin', 'Bill Kneeland', 'thecheops', 'supergirl', 'amycsj', 'Heather Hogan', 'sarac', 'rachelellen', 'Brad Bush', 'Rachael Lapidis', 'Leanne Kinkopf', 'Leni', 'Duncan Murrell', 'Paul-Gabriel Wiener', 'Peter Bobbe', 'LadyBug', 'TinyPines', 'AJai Hilton', 'Nolan Fout', 'Dianne', 'Tim Bower', 'Nodo420', 'Tim Perkins', 'Mitchell L Leopard', 'Ulf Bjorklund', 'Taylor Burton-Edward', 'Ammar Kaba'}\n"
          ]
        }
      ],
      "source": [
        "DATASET_DIR='/content/drive/MyDrive/cnn-speaker-id/data'\n",
        "X_train_raw, y_train_raw, X_test, y_test = prepare_dataset(DATASET_DIR)\n",
        "print(f\"Number of training examples: {len(X_train_raw)}\")\n",
        "print(f\"Number of testing examples: {len(X_test)}\")\n",
        "print(f\"Number of classes: {len(set(y_train_raw))}\")\n",
        "print(f\"Classes: {set(y_train_raw)}\")"
      ]
    },
    {
      "cell_type": "code",
      "execution_count": 15,
      "metadata": {
        "id": "SwYdwHTtDSSp"
      },
      "outputs": [],
      "source": [
        "from keras.api.utils import to_categorical\n",
        "from sklearn.preprocessing import LabelEncoder\n",
        "le = LabelEncoder()\n",
        "y_encoded = le.fit_transform(y_train_raw)\n",
        "y_cat = to_categorical(y_encoded)"
      ]
    },
    {
      "cell_type": "code",
      "execution_count": 16,
      "metadata": {
        "colab": {
          "base_uri": "https://localhost:8080/"
        },
        "id": "UcS83wkAENCY",
        "outputId": "9464fb5b-b644-4235-8e41-5d8cbc0ff4d9"
      },
      "outputs": [
        {
          "name": "stdout",
          "output_type": "stream",
          "text": [
            "classes:  ['AJai Hilton', 'Akram Fadel', 'Ammar Kaba', 'Bill Kneeland', 'Brad Bush', 'Daniel Anaya', 'David Jenkins', 'Dianne', 'Duncan Murrell', 'Heather Hogan', 'Jen Maxwell', 'KalenXI', 'LadyBug', 'Leanne Kinkopf', 'Leni', 'Mary Ballard-Johansson', 'Michele Fry', 'Michelle Goode', 'Mitchell L Leopard', 'Nikolle Doolin', 'Nodo420', 'Nolan Fout', 'Paul-Gabriel Wiener', 'Peter Bobbe', 'Rachael Lapidis', 'Rachel Nelson-Smith', 'Sam Stinson', 'Taylor Burton-Edward', 'Tim Bower', 'Tim Perkins', 'TinyPines', 'Ulf Bjorklund', 'airandwaters', 'amycsj', 'elongman', 'number6', 'rachelellen', 'sarac', 'supergirl', 'thecheops']\n"
          ]
        }
      ],
      "source": [
        "classes = le.classes_.tolist()\n",
        "print('classes: ',classes)"
      ]
    },
    {
      "cell_type": "code",
      "execution_count": 17,
      "metadata": {
        "id": "hCjsrCNGGWWH"
      },
      "outputs": [],
      "source": [
        "X_train, X_val, y_train_cat, y_val_cat = train_test_split(\n",
        "    X_train_raw, y_cat, test_size=0.2, stratify=y_encoded, random_state=42\n",
        ")"
      ]
    },
    {
      "cell_type": "code",
      "execution_count": null,
      "metadata": {
        "colab": {
          "base_uri": "https://localhost:8080/",
          "height": 347
        },
        "id": "BW4GaPcREQx6",
        "outputId": "7ce2c639-62bf-49e3-d89b-b1e6d13c0f8d"
      },
      "outputs": [
        {
          "data": {
            "image/png": "[encoded data removed]",
            "text/plain": [
              "<Figure size 1400x600 with 1 Axes>"
            ]
          },
          "metadata": {},
          "output_type": "display_data"
        }
      ],
      "source": [
        "from collections import Counter\n",
        "import matplotlib.pyplot as plt\n",
        "import numpy as np\n",
        "\n",
        "y_test_encoded = le.transform(y_test)\n",
        "\n",
        "\n",
        "train_counts = Counter(np.argmax(y_train_cat, axis=1))\n",
        "val_counts = Counter(np.argmax(y_val_cat, axis=1))\n",
        "test_counts = Counter(y_test_encoded)\n",
        "\n",
        "all_classes = sorted(set(list(train_counts.keys()) + list(val_counts.keys()) + list(test_counts.keys())))\n",
        "\n",
        "\n",
        "train_values = [train_counts.get(cls, 0) for cls in all_classes]\n",
        "val_values = [val_counts.get(cls, 0) for cls in all_classes]\n",
        "test_values = [test_counts.get(cls, 0) for cls in all_classes]\n",
        "\n",
        "\n",
        "x = np.arange(len(all_classes))\n",
        "width = 0.25\n",
        "\n",
        "\n",
        "plt.figure(figsize=(14, 6))\n",
        "plt.bar(x - width, train_values, width, label='Train', color='skyblue')\n",
        "plt.bar(x, val_values, width, label='Validation', color='orange')\n",
        "plt.bar(x + width, test_values, width, label='Test', color='green')\n",
        "\n",
        "plt.xlabel('Classe')\n",
        "plt.ylabel('Nombre des échantillons')\n",
        "plt.title('Distribution des classes (Train vs Validation vs Test)')\n",
        "plt.xticks(x, [le.classes_[i] for i in all_classes], rotation=90)  # show actual class names\n",
        "plt.legend()\n",
        "plt.tight_layout()\n",
        "plt.show()\n"
      ]
    },
    {
      "cell_type": "code",
      "execution_count": 19,
      "metadata": {
        "id": "TEwbNDpmGYFV"
      },
      "outputs": [],
      "source": [
        "model = create_model(num_classes=y_cat.shape[1])"
      ]
    },
    {
      "cell_type": "code",
      "execution_count": 20,
      "metadata": {
        "id": "B3KuJvNgEoji"
      },
      "outputs": [],
      "source": [
        "import tensorflow as tf\n",
        "from keras import backend as K\n",
        "\n",
        "def categorical_focal_loss(alpha=0.25, gamma=2.0):\n",
        "    def loss(y_true, y_pred):\n",
        "        y_pred = tf.clip_by_value(y_pred, K.epsilon(), 1. - K.epsilon())\n",
        "        cross_entropy = -y_true * tf.math.log(y_pred)\n",
        "        loss = alpha * tf.math.pow(1 - y_pred, gamma) * cross_entropy\n",
        "        return tf.reduce_sum(loss, axis=1)\n",
        "    return loss"
      ]
    },
    {
      "cell_type": "code",
      "execution_count": 21,
      "metadata": {
        "id": "XX-a-qTHFB9w"
      },
      "outputs": [],
      "source": [
        "class_weights = class_weight.compute_class_weight('balanced', classes=np.unique(y_encoded), y=y_encoded)\n",
        "class_weights_dict = dict(enumerate(class_weights))\n",
        "lr_scheduler = ReduceLROnPlateau(monitor='val_loss', factor=0.5, patience=3, min_lr=1e-6)\n",
        "early_stopping = EarlyStopping(monitor='val_loss', patience=10, restore_best_weights=True)"
      ]
    },
    {
      "cell_type": "code",
      "execution_count": 22,
      "metadata": {
        "id": "KHiwHvHjE8gr"
      },
      "outputs": [],
      "source": [
        "model.compile(optimizer='adam', loss=categorical_focal_loss(alpha=0.25, gamma=2), metrics=['accuracy', Precision(), Recall()])"
      ]
    },
    {
      "cell_type": "code",
      "execution_count": null,
      "metadata": {
        "colab": {
          "base_uri": "https://localhost:8080/"
        },
        "id": "QMwVXSE1GZqI",
        "outputId": "2fd7a58a-c5f2-4105-acb4-a4d41c0387ab"
      },
      "outputs": [
        {
          "name": "stdout",
          "output_type": "stream",
          "text": [
            "Epoch 1/20\n"
          ]
        }
      ],
      "source": [
        "history = model.fit(\n",
        "    np.array(X_train), np.array(y_train_cat),\n",
        "    validation_data=(np.array(X_val), np.array(y_val_cat)),\n",
        "    epochs=20,\n",
        "    batch_size=32,\n",
        "    class_weight=class_weights_dict,\n",
        "    callbacks=[lr_scheduler, early_stopping]\n",
        ")"
      ]
    }
  ],
  "metadata": {
    "colab": {
      "provenance": []
    },
    "kernelspec": {
      "display_name": "Python 3",
      "name": "python3"
    },
    "language_info": {
      "name": "python"
    }
  },
  "nbformat": 4,
  "nbformat_minor": 0
}
